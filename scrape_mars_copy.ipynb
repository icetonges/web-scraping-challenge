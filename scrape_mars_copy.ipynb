{
 "cells": [
  {
   "cell_type": "code",
   "execution_count": 1,
   "metadata": {},
   "outputs": [],
   "source": [
    "# Import necessary libraries\n",
    "\n",
    "from splinter import Browser\n",
    "from bs4 import BeautifulSoup as bs\n",
    "import requests\n",
    "import pandas as pd\n"
   ]
  },
  {
   "cell_type": "code",
   "execution_count": 2,
   "metadata": {},
   "outputs": [],
   "source": [
    "def init_browser():\n",
    "    \n",
    "    executable_path ={'executable_path': 'chromedriver'}\n",
    "    return Browser('chrome', **executable_path, headless=False)"
   ]
  },
  {
   "cell_type": "code",
   "execution_count": 3,
   "metadata": {},
   "outputs": [],
   "source": [
    "# Sec A: Scraping\n",
    "# Complete your initial scraping using Jupyter Notebook, BeautifulSoup, Pandas, and Requests/Splinter."
   ]
  },
  {
   "cell_type": "code",
   "execution_count": 4,
   "metadata": {},
   "outputs": [],
   "source": [
    "def scrape():\n",
    "    browser = init_browser()\n",
    "    listings = {}\n",
    "    # NASA Mars News\n",
    "    url = 'https://mars.nasa.gov/news/?page=0&per_page=40&order=publish_date+desc%2Ccreated_at+desc&search=&category=19%2C165%2C184%2C204&blank_scope=Latest'\n",
    "    browser.visit(url)\n",
    "    html = browser.html\n",
    "    soup = bs(html, 'html.parser')\n",
    "    news_title = soup.find('div', class_=\"content_title\").text\n",
    "    news_text = soup.find('div', class_=\"article_teaser_body\").text\n",
    "    \n",
    "    # 2. JPL Mars Space Images - Featured Image\n",
    "    url = 'https://www.jpl.nasa.gov/spaceimages/?search=&category=Mars'\n",
    "    browser.visit(url)\n",
    "    html = browser.html\n",
    "    soup = bs(html, 'html.parser')\n",
    "    imgbody = soup.find(\"a\", class_=\"fancybox\").get('data-fancybox-href').strip()\n",
    "    imgurl = 'https://www.jpl.nasa.gov'+imgbody\n",
    "    \n",
    "    # 3. Mars Weather\n",
    "    url = 'https://twitter.com/marswxreport?lang=en'\n",
    "    browser.visit(url)\n",
    "    html = browser.html\n",
    "    soup = bs(html, 'html.parser')\n",
    "    tweet = soup.find(class_=\"js-tweet-text\").text\n",
    "    weather = tweet.split('pic')[0] \n",
    "    \n",
    "    # 4. Mars Facts\n",
    "    url = 'https://space-facts.com/mars/'\n",
    "    tables = pd.read_html(url)\n",
    "    df = tables[0]\n",
    "    fact_list=df.values.tolist()\n",
    "    \n",
    "    # 5. Mars Hem\n",
    "    url = 'https://astrogeology.usgs.gov/search/results?q=hemisphere+enhanced&k1=target&v1=Mars'\n",
    "    browser.visit(url)\n",
    "    html = browser.html\n",
    "    soup = bs(html, 'html.parser')\n",
    "    url_list = []\n",
    "    itemlinks = soup.find_all(class_=\"description\")\n",
    "\n",
    "    for itemlink in itemlinks:\n",
    "        item = itemlink.find('a', class_=\"itemLink product-item\").get('href')\n",
    "        url_list.append(item)\n",
    "    item_url_list = ['https://astrogeology.usgs.gov/' + item_url for item_url in url_list]\n",
    "    \n",
    "    title_list = []\n",
    "    image_urls_list = []\n",
    "    for x in range (0,4):\n",
    "\n",
    "        item_url = item_url_list[x]\n",
    "        browser.visit(item_url)\n",
    "        html = browser.html\n",
    "        soup = bs(html, 'html.parser')\n",
    "    #     print(item_url)\n",
    "        image_urls = soup.find(\"li\").find('a')['href']\n",
    "        title = soup.find('h2', class_=\"title\").text\n",
    "        title_list.append(title)\n",
    "        image_urls_list.append(image_urls)\n",
    "    hemisphere_image_urls = [{\"title\": title_list[0], \"img_url\": image_urls_list[0]},\n",
    "                            {\"title\": title_list[1], \"img_url\": image_urls_list[1]},\n",
    "                            {\"title\": title_list[2], \"img_url\": image_urls_list[2]},\n",
    "                            {\"title\": title_list[3], \"img_url\": image_urls_list[3]}]\n",
    "    listings = [{'news':news_title}, \n",
    "           {'text':news_text}, \n",
    "           {'url':imgurl}, \n",
    "           {'weather':weather},\n",
    "           {'description':fact_list[0][0], 'value':fact_list[0][1]},\n",
    "           {'description':fact_list[1][0], 'value':fact_list[1][1]},\n",
    "           {'description':fact_list[2][0], 'value':fact_list[2][1]},\n",
    "           {'description':fact_list[3][0], 'value':fact_list[3][1]},\n",
    "           {'description':fact_list[4][0], 'value':fact_list[4][1]},\n",
    "           {'description':fact_list[5][0], 'value':fact_list[5][1]},\n",
    "           {'description':fact_list[6][0], 'value':fact_list[6][1]},\n",
    "           {'description':fact_list[7][0], 'value':fact_list[7][1]},\n",
    "           {'description':fact_list[8][0], 'value':fact_list[8][1]},\n",
    "           {\"title\": title_list[0], \"img_url\": image_urls_list[0]},                       \n",
    "           {\"title\": title_list[1], \"img_url\": image_urls_list[1]},\n",
    "           {\"title\": title_list[2], \"img_url\": image_urls_list[2]},\n",
    "           {\"title\": title_list[3], \"img_url\": image_urls_list[3]},\n",
    "           ]\n",
    "    return listings\n",
    "    print(listings)"
   ]
  },
  {
   "cell_type": "code",
   "execution_count": 5,
   "metadata": {},
   "outputs": [
    {
     "ename": "NameError",
     "evalue": "name 'listings' is not defined",
     "output_type": "error",
     "traceback": [
      "\u001b[1;31m---------------------------------------------------------------------------\u001b[0m",
      "\u001b[1;31mNameError\u001b[0m                                 Traceback (most recent call last)",
      "\u001b[1;32m<ipython-input-5-d7871c5d2016>\u001b[0m in \u001b[0;36m<module>\u001b[1;34m\u001b[0m\n\u001b[0;32m      5\u001b[0m \u001b[0mdb\u001b[0m \u001b[1;33m=\u001b[0m \u001b[0mclient\u001b[0m\u001b[1;33m.\u001b[0m\u001b[0mtestmars_db\u001b[0m\u001b[1;33m\u001b[0m\u001b[1;33m\u001b[0m\u001b[0m\n\u001b[0;32m      6\u001b[0m \u001b[0mcollection\u001b[0m \u001b[1;33m=\u001b[0m \u001b[0mdb\u001b[0m\u001b[1;33m.\u001b[0m\u001b[0mitems\u001b[0m\u001b[1;33m\u001b[0m\u001b[1;33m\u001b[0m\u001b[0m\n\u001b[1;32m----> 7\u001b[1;33m \u001b[0mcollection\u001b[0m\u001b[1;33m.\u001b[0m\u001b[0minsert_many\u001b[0m\u001b[1;33m(\u001b[0m\u001b[0mlistings\u001b[0m\u001b[1;33m)\u001b[0m\u001b[1;33m\u001b[0m\u001b[1;33m\u001b[0m\u001b[0m\n\u001b[0m",
      "\u001b[1;31mNameError\u001b[0m: name 'listings' is not defined"
     ]
    }
   ],
   "source": [
    "import pymongo\n",
    "\n",
    "conn = 'mongodb://localhost:27017'\n",
    "client = pymongo.MongoClient(conn)\n",
    "db = client.testmars_db\n",
    "collection = db.items\n",
    "collection.insert_many(listings)"
   ]
  },
  {
   "cell_type": "code",
   "execution_count": null,
   "metadata": {},
   "outputs": [],
   "source": [
    "    print(listings)"
   ]
  },
  {
   "cell_type": "code",
   "execution_count": 12,
   "metadata": {},
   "outputs": [],
   "source": [
    "import pymongo\n",
    "testlist =[{'_id': ('5df00189170f74023ec3742b'), 'news': 'Two Rovers to Roll on Mars Again: Curiosity and Mars 2020'}, {'_id': ('5df00189170f74023ec3742c'), 'text': 'They look like twins. But under the hood, the rover currently exploring the Red Planet and the one launching there this summer have distinct science tools and roles to play.'}, {'_id': ('5df00189170f74023ec3742d'), 'url': 'https://www.jpl.nasa.gov/spaceimages/images/mediumsize/PIA17462_ip.jpg'}, {'_id': ('5df00189170f74023ec3742e'), 'weather': 'InSight sol 367 (2019-12-08) low -139.9ºC (-219.9ºF) high -20.9ºC (-5.6ºF)\\nwinds from the SSE at 5.9 m/s (13.3 mph) gusting to 21.9 m/s (49.0 mph)\\npressure at 6.60 hPa'}, {'_id': ('5df00189170f74023ec3742f'), 'description': 'Equatorial Diameter:', 'value': '6,792 km'}, {'_id': ('5df00189170f74023ec37430'), 'description': 'Polar Diameter:', 'value': '6,752 km'}, {'_id': ('5df00189170f74023ec37431'), 'description': 'Mass:', 'value': '6.39 × 10^23 kg (0.11 Earths)'}, {'_id': ('5df00189170f74023ec37432'), 'description': 'Moons:', 'value': \n",
    "'2 (Phobos & Deimos)'}, {'_id': ('5df00189170f74023ec37433'), 'description': 'Orbit Distance:', 'value': '227,943,824 km (1.38 AU)'}, {'_id': ('5df00189170f74023ec37434'), 'description': 'Orbit Period:', 'value': '687 days (1.9 years)'}, {'_id': ('5df00189170f74023ec37435'), 'description': 'Surface Temperature:', 'value': '-87 to -5 °C'}, {'_id': ('5df00189170f74023ec37436'), 'description': 'First Record:', 'value': '2nd millennium BC'}, {'_id': ('5df00189170f74023ec37437'), 'description': 'Recorded By:', 'value': 'Egyptian astronomers'}, {'_id': ('5df00189170f74023ec37438'), 'title': 'Cerberus Hemisphere Enhanced', 'img_url': 'http://astropedia.astrogeology.usgs.gov/download/Mars/Viking/cerberus_enhanced.tif/full.jpg'}, {'_id': ('5df00189170f74023ec37439'), 'title': 'Schiaparelli Hemisphere Enhanced', 'img_url': 'http://astropedia.astrogeology.usgs.gov/download/Mars/Viking/schiaparelli_enhanced.tif/full.jpg'}, {'_id': ('5df00189170f74023ec3743a'), 'title': 'Syrtis Major Hemisphere Enhanced', 'img_url': 'http://astropedia.astrogeology.usgs.gov/download/Mars/Viking/syrtis_major_enhanced.tif/full.jpg'}, {'_id': ('5df00189170f74023ec3743b'), 'title': 'Valles Marineris Hemisphere Enhanced', 'img_url': 'http://astropedia.astrogeology.usgs.gov/download/Mars/Viking/valles_marineris_enhanced.tif/full.jpg'}]\n"
   ]
  },
  {
   "cell_type": "code",
   "execution_count": 15,
   "metadata": {},
   "outputs": [
    {
     "ename": "AttributeError",
     "evalue": "'list' object has no attribute 'text'",
     "output_type": "error",
     "traceback": [
      "\u001b[1;31m---------------------------------------------------------------------------\u001b[0m",
      "\u001b[1;31mAttributeError\u001b[0m                            Traceback (most recent call last)",
      "\u001b[1;32m<ipython-input-15-ffca63b838d5>\u001b[0m in \u001b[0;36m<module>\u001b[1;34m\u001b[0m\n\u001b[1;32m----> 1\u001b[1;33m \u001b[0mtestlist\u001b[0m\u001b[1;33m.\u001b[0m\u001b[0mtext\u001b[0m\u001b[1;33m\u001b[0m\u001b[1;33m\u001b[0m\u001b[0m\n\u001b[0m",
      "\u001b[1;31mAttributeError\u001b[0m: 'list' object has no attribute 'text'"
     ]
    }
   ],
   "source": [
    "testlist.text"
   ]
  },
  {
   "cell_type": "code",
   "execution_count": 19,
   "metadata": {},
   "outputs": [
    {
     "name": "stdout",
     "output_type": "stream",
     "text": [
      "Two Rovers to Roll on Mars Again: Curiosity and Mars 2020\n"
     ]
    }
   ],
   "source": [
    "a=testlist[0].get(\"news\")\n",
    "print(a)"
   ]
  },
  {
   "cell_type": "code",
   "execution_count": 22,
   "metadata": {},
   "outputs": [
    {
     "name": "stdout",
     "output_type": "stream",
     "text": [
      "They look like twins. But under the hood, the rover currently exploring the Red Planet and the one launching there this summer have distinct science tools and roles to play.\n"
     ]
    }
   ],
   "source": [
    "a=testlist[1].get(\"text\")\n",
    "print(a)"
   ]
  },
  {
   "cell_type": "code",
   "execution_count": null,
   "metadata": {},
   "outputs": [],
   "source": []
  }
 ],
 "metadata": {
  "kernelspec": {
   "display_name": "Python 3",
   "language": "python",
   "name": "python3"
  },
  "language_info": {
   "codemirror_mode": {
    "name": "ipython",
    "version": 3
   },
   "file_extension": ".py",
   "mimetype": "text/x-python",
   "name": "python",
   "nbconvert_exporter": "python",
   "pygments_lexer": "ipython3",
   "version": "3.7.3"
  }
 },
 "nbformat": 4,
 "nbformat_minor": 2
}
