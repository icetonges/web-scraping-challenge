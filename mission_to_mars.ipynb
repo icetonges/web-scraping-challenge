{
 "cells": [
  {
   "cell_type": "code",
   "execution_count": 1,
   "metadata": {},
   "outputs": [],
   "source": [
    "# Import necessary libraries\n",
    "\n",
    "from flask import Flask, render_template, redirect\n",
    "from flask_pymongo import PyMongo\n",
    "import pymongo\n",
    "from splinter import Browser\n",
    "from bs4 import BeautifulSoup as bs\n",
    "import requests\n",
    "import pandas as pd\n"
   ]
  },
  {
   "cell_type": "code",
   "execution_count": 2,
   "metadata": {},
   "outputs": [],
   "source": [
    "executable_path ={'executable_path': 'chromedriver.exe'}\n",
    "browser = Browser('chrome', **executable_path, headless=False)"
   ]
  },
  {
   "cell_type": "code",
   "execution_count": 3,
   "metadata": {},
   "outputs": [],
   "source": [
    "conn = 'mongodb://localhost:27017'\n",
    "client = pymongo.MongoClient(conn)\n",
    "db = client.testmars_db\n",
    "collection = db.items"
   ]
  },
  {
   "cell_type": "code",
   "execution_count": 4,
   "metadata": {},
   "outputs": [],
   "source": [
    "# Sec A: Scraping\n",
    "# Complete your initial scraping using Jupyter Notebook, BeautifulSoup, Pandas, and Requests/Splinter."
   ]
  },
  {
   "cell_type": "code",
   "execution_count": null,
   "metadata": {},
   "outputs": [],
   "source": []
  },
  {
   "cell_type": "code",
   "execution_count": 5,
   "metadata": {},
   "outputs": [],
   "source": [
    "# NASA Mars News\n",
    "# Scrape the NASA Mars News Site and collect the latest News Title and Paragraph Text. \n",
    "# Assign the text to variables that you can reference later.\n",
    "# Example:\n",
    "# news_title = \"NASA's Next Mars Mission to Investigate Interior of Red Planet\"\n",
    "# news_p = \"Preparation of NASA's next spacecraft to Mars, InSight, \n",
    "# has ramped up this summer, on course for launch next May from Vandenberg \n",
    "# Air Force Base in central California -- \n",
    "# the first interplanetary launch in history from America's West Coast.\"\n"
   ]
  },
  {
   "cell_type": "code",
   "execution_count": 6,
   "metadata": {},
   "outputs": [],
   "source": [
    "url = 'https://mars.nasa.gov/news/?page=0&per_page=40&order=publish_date+desc%2Ccreated_at+desc&search=&category=19%2C165%2C184%2C204&blank_scope=Latest'\n",
    "browser.visit(url)\n",
    "html = browser.html\n",
    "soup = bs(html, 'html.parser')\n"
   ]
  },
  {
   "cell_type": "code",
   "execution_count": 7,
   "metadata": {},
   "outputs": [
    {
     "name": "stdout",
     "output_type": "stream",
     "text": [
      "Two Rovers to Roll on Mars Again: Curiosity and Mars 2020 ******** They look like twins. But under the hood, the rover currently exploring the Red Planet and the one launching there this summer have distinct science tools and roles to play.\n"
     ]
    }
   ],
   "source": [
    "news_title = soup.find('div', class_=\"content_title\").text\n",
    "news_text = soup.find('div', class_=\"article_teaser_body\").text\n",
    "print(news_title, \"********\", news_text)"
   ]
  },
  {
   "cell_type": "code",
   "execution_count": 8,
   "metadata": {},
   "outputs": [],
   "source": [
    "# 2. JPL Mars Space Images - Featured Image\n",
    "\n",
    "# https://www.jpl.nasa.gov/spaceimages/?search=&category=Mars\n",
    "\n",
    "# Visit  the url for JPL Featured Space Image here.\n",
    "# Use splinter to navigate the site and find the image url \n",
    "# for the current Featured Mars Image and assign the url string to \n",
    "# a variable called featured_image_url.\n",
    "\n",
    "# Make sure to find the image url to the full size .jpg image.\n",
    "\n",
    "# Make sure to save a complete url string for this image.\n",
    "\n",
    "# Example:\n",
    "# featured_image_url = 'https://www.jpl.nasa.gov/spaceimages/images/largesize/PIA16225_hires.jpg'\n",
    "\n"
   ]
  },
  {
   "cell_type": "code",
   "execution_count": 9,
   "metadata": {},
   "outputs": [],
   "source": [
    "url = 'https://www.jpl.nasa.gov/spaceimages/?search=&category=Mars'\n",
    "browser.visit(url)\n",
    "html = browser.html\n",
    "soup = bs(html, 'html.parser')"
   ]
  },
  {
   "cell_type": "code",
   "execution_count": 10,
   "metadata": {},
   "outputs": [
    {
     "name": "stdout",
     "output_type": "stream",
     "text": [
      "https://www.jpl.nasa.gov/spaceimages/images/mediumsize/PIA00271_ip.jpg\n"
     ]
    }
   ],
   "source": [
    "imgbody = soup.find(\"a\", class_=\"fancybox\").get('data-fancybox-href').strip()\n",
    "imgurl = 'https://www.jpl.nasa.gov'+imgbody\n",
    "print(imgurl)"
   ]
  },
  {
   "cell_type": "code",
   "execution_count": 11,
   "metadata": {},
   "outputs": [],
   "source": [
    "# 3. Mars Weather\n",
    "\n",
    "# https://twitter.com/marswxreport?lang=en\n",
    "\n",
    "# Visit the Mars Weather twitter account\n",
    "# and scrape the latest Mars weather tweet from the page. Save the tweet text\n",
    "# for the weather report as a variable called mars_weather.\n",
    "# Example:\n",
    "# mars_weather = 'Sol 1801 (Aug 30, 2017), Sunny, high -21C/-5F, low -80C/-112F, pressure at 8.82 hPa, daylight 06:09-17:55'"
   ]
  },
  {
   "cell_type": "code",
   "execution_count": 12,
   "metadata": {},
   "outputs": [],
   "source": [
    "url = 'https://twitter.com/marswxreport?lang=en'\n",
    "browser.visit(url)\n",
    "html = browser.html\n",
    "soup = bs(html, 'html.parser')"
   ]
  },
  {
   "cell_type": "code",
   "execution_count": 13,
   "metadata": {},
   "outputs": [
    {
     "name": "stdout",
     "output_type": "stream",
     "text": [
      "InSight sol 367 (2019-12-08) low -139.9ºC (-219.9ºF) high -20.9ºC (-5.6ºF)\n",
      "winds from the SSE at 5.9 m/s (13.3 mph) gusting to 21.9 m/s (49.0 mph)\n",
      "pressure at 6.60 hPa\n"
     ]
    }
   ],
   "source": [
    "tweet = soup.find(class_=\"js-tweet-text\").text\n",
    "weather = tweet.split('pic')[0] \n",
    "print(weather)"
   ]
  },
  {
   "cell_type": "code",
   "execution_count": 14,
   "metadata": {},
   "outputs": [],
   "source": [
    "# 4. Mars Facts\n",
    "\n",
    "# https://space-facts.com/mars/\n",
    "\n",
    "# Visit the Mars Facts webpage here and use Pandas to scrape the table containing\n",
    "# facts about the planet including Diameter, Mass, etc.\n",
    "\n",
    "# Use Pandas to convert the data to a HTML table string."
   ]
  },
  {
   "cell_type": "code",
   "execution_count": 15,
   "metadata": {},
   "outputs": [],
   "source": [
    "url = 'https://space-facts.com/mars/'"
   ]
  },
  {
   "cell_type": "code",
   "execution_count": 16,
   "metadata": {},
   "outputs": [
    {
     "name": "stdout",
     "output_type": "stream",
     "text": [
      "Egyptian astronomers\n"
     ]
    }
   ],
   "source": [
    "tables = pd.read_html(url)\n",
    "df = tables[0]\n",
    "# df.columns = ['description','Value']\n",
    "# df.set_index('description', inplace=True)\n",
    "# data_dict = df.to_dict('records') \n",
    "# type(data_dict)\n",
    "# print(data_dict)\n",
    "fact_list=df.values.tolist()\n",
    "test = fact_list[8][1]\n",
    "print(test)"
   ]
  },
  {
   "cell_type": "code",
   "execution_count": 17,
   "metadata": {},
   "outputs": [],
   "source": [
    "# 5. Mars Hemispheres\n",
    "# https://astrogeology.usgs.gov/search/results?q=hemisphere+enhanced&k1=target&v1=Mars\n",
    "\n",
    "# Visit the USGS Astrogeology site here to obtain high resolution images \n",
    "# for each of Mar's hemispheres.\n",
    "\n",
    "# You will need to click each of the links to the hemispheres in order to \n",
    "# find the image url to the full resolution image.\n",
    "\n",
    "# Save both the image url string for the full resolution hemisphere image, \n",
    "# and the Hemisphere title containing the hemisphere name. Use a Python dictionary\n",
    "# to store the data using the keys img_url and title.\n",
    "\n",
    "# Append the dictionary with the image url string and the hemisphere title to \n",
    "# a list. This list will contain one dictionary for each hemisphere.\n",
    "\n",
    "# Example:\n",
    "# hemisphere_image_urls = [\n",
    "#     {\"title\": \"Valles Marineris Hemisphere\", \"img_url\": \"...\"},\n",
    "#     {\"title\": \"Cerberus Hemisphere\", \"img_url\": \"...\"},\n",
    "#     {\"title\": \"Schiaparelli Hemisphere\", \"img_url\": \"...\"},\n",
    "#     {\"title\": \"Syrtis Major Hemisphere\", \"img_url\": \"...\"},\n",
    "# ]"
   ]
  },
  {
   "cell_type": "code",
   "execution_count": 18,
   "metadata": {},
   "outputs": [],
   "source": [
    "url = 'https://astrogeology.usgs.gov/search/results?q=hemisphere+enhanced&k1=target&v1=Mars'\n",
    "browser.visit(url)\n",
    "html = browser.html\n",
    "soup = bs(html, 'html.parser')"
   ]
  },
  {
   "cell_type": "code",
   "execution_count": 19,
   "metadata": {},
   "outputs": [],
   "source": [
    "url_list = []\n",
    "itemlinks = soup.find_all(class_=\"description\")\n",
    "\n",
    "for itemlink in itemlinks:\n",
    "    item = itemlink.find('a', class_=\"itemLink product-item\").get('href')\n",
    "    url_list.append(item)\n",
    "item_url_list = ['https://astrogeology.usgs.gov/' + item_url for item_url in url_list]\n",
    "\n",
    "# print(item_url_list[0],item_url_list[1], item_url_list[2], item_url_list[3] )\n"
   ]
  },
  {
   "cell_type": "code",
   "execution_count": 20,
   "metadata": {},
   "outputs": [
    {
     "name": "stdout",
     "output_type": "stream",
     "text": [
      "[{'title': 'Cerberus Hemisphere Enhanced', 'img_url': 'http://astropedia.astrogeology.usgs.gov/download/Mars/Viking/cerberus_enhanced.tif/full.jpg'}, {'title': 'Schiaparelli Hemisphere Enhanced', 'img_url': 'http://astropedia.astrogeology.usgs.gov/download/Mars/Viking/schiaparelli_enhanced.tif/full.jpg'}, {'title': 'Syrtis Major Hemisphere Enhanced', 'img_url': 'http://astropedia.astrogeology.usgs.gov/download/Mars/Viking/syrtis_major_enhanced.tif/full.jpg'}, {'title': 'Valles Marineris Hemisphere Enhanced', 'img_url': 'http://astropedia.astrogeology.usgs.gov/download/Mars/Viking/valles_marineris_enhanced.tif/full.jpg'}]\n"
     ]
    }
   ],
   "source": [
    "title_list = []\n",
    "image_urls_list = []\n",
    "for x in range (0,4):\n",
    "    \n",
    "    item_url = item_url_list[x]\n",
    "    browser.visit(item_url)\n",
    "    html = browser.html\n",
    "    soup = bs(html, 'html.parser')\n",
    "#     print(item_url)\n",
    "    image_urls = soup.find(\"li\").find('a')['href']\n",
    "    title = soup.find('h2', class_=\"title\").text\n",
    "    title_list.append(title)\n",
    "    image_urls_list.append(image_urls)\n",
    "# print(title_list)\n",
    "# print(image_urls_list)\n",
    "# hemisphere_image_urls = zip(title_list,imgurl_list )\n",
    "hemisphere_image_urls = [{\"title\": title_list[0], \"img_url\": image_urls_list[0]},\n",
    "                        {\"title\": title_list[1], \"img_url\": image_urls_list[1]},\n",
    "                        {\"title\": title_list[2], \"img_url\": image_urls_list[2]},\n",
    "                        {\"title\": title_list[3], \"img_url\": image_urls_list[3]}]\n",
    "print(hemisphere_image_urls)"
   ]
  },
  {
   "cell_type": "code",
   "execution_count": 32,
   "metadata": {},
   "outputs": [
    {
     "name": "stdout",
     "output_type": "stream",
     "text": [
      "Polar Diameter:\n"
     ]
    }
   ],
   "source": [
    "listing = [{'news':news_title}, \n",
    "           {'text':news_text}, \n",
    "           {'url':imgurl}, \n",
    "           {'weather':weather},\n",
    "           {'description':fact_list[0][0], 'value':fact_list[0][1]},\n",
    "           {'description':fact_list[1][0], 'value':fact_list[1][1]},\n",
    "           {'description':fact_list[2][0], 'value':fact_list[2][1]},\n",
    "           {'description':fact_list[3][0], 'value':fact_list[3][1]},\n",
    "           {'description':fact_list[4][0], 'value':fact_list[4][1]},\n",
    "           {'description':fact_list[5][0], 'value':fact_list[5][1]},\n",
    "           {'description':fact_list[6][0], 'value':fact_list[6][1]},\n",
    "           {'description':fact_list[7][0], 'value':fact_list[7][1]},\n",
    "           {'description':fact_list[8][0], 'value':fact_list[8][1]},\n",
    "           {\"title\": title_list[0], \"img_url\": image_urls_list[0]},                       \n",
    "           {\"title\": title_list[1], \"img_url\": image_urls_list[1]},\n",
    "           {\"title\": title_list[2], \"img_url\": image_urls_list[2]},\n",
    "           {\"title\": title_list[3], \"img_url\": image_urls_list[3]},\n",
    "           ]\n",
    "print(listing[5]['description'])\n"
   ]
  },
  {
   "cell_type": "code",
   "execution_count": 33,
   "metadata": {},
   "outputs": [],
   "source": [
    "# Sec B - MongoDB and Flask Application\n",
    "# Use MongoDB with Flask templating to create a new HTML page that \n",
    "# displays all of the information that was scraped from the URLs above.\n",
    "\n",
    "# Start by converting your Jupyter notebook into a Python script \n",
    "# called scrape_mars.py with a function called scrape that \n",
    "# will execute all of your scraping code from above and return one \n",
    "# Python dictionary containing all of the scraped data.\n",
    "\n",
    "# Next, create a route called /scrape that will \n",
    "# import your scrape_mars.py script and call your scrape function.\n",
    "\n",
    "# Store the return value in Mongo as a Python dictionary.\n",
    "\n",
    "# Create a root route / that will query your Mongo database and pass \n",
    "# the mars data into an HTML template to display the data.\n",
    "\n",
    "# Create a template HTML file called index.html that will take the mars \n",
    "# data dictionary and display all of the data in the appropriate HTML elements. \n",
    "# Use the following as a guide for what the final product should look like, \n",
    "# but feel free to create your own design."
   ]
  },
  {
   "cell_type": "code",
   "execution_count": 34,
   "metadata": {},
   "outputs": [
    {
     "data": {
      "text/plain": [
       "<pymongo.results.InsertManyResult at 0x24b7c5c9408>"
      ]
     },
     "execution_count": 34,
     "metadata": {},
     "output_type": "execute_result"
    }
   ],
   "source": [
    "collection.insert_many(listing)"
   ]
  },
  {
   "cell_type": "code",
   "execution_count": 35,
   "metadata": {},
   "outputs": [
    {
     "name": "stdout",
     "output_type": "stream",
     "text": [
      "[]\n"
     ]
    }
   ],
   "source": [
    "listings = list(db.testmars_db.find())\n",
    "print(listings)"
   ]
  },
  {
   "cell_type": "code",
   "execution_count": 36,
   "metadata": {},
   "outputs": [
    {
     "data": {
      "text/plain": [
       "<pymongo.cursor.Cursor at 0x24b7c954908>"
      ]
     },
     "execution_count": 36,
     "metadata": {},
     "output_type": "execute_result"
    }
   ],
   "source": [
    "db.testmars_db.find()"
   ]
  },
  {
   "cell_type": "code",
   "execution_count": 37,
   "metadata": {},
   "outputs": [
    {
     "name": "stdout",
     "output_type": "stream",
     "text": [
      "<pymongo.cursor.Cursor object at 0x0000024B7C954C18>\n"
     ]
    }
   ],
   "source": [
    "print(db.testmars_db.find())"
   ]
  },
  {
   "cell_type": "code",
   "execution_count": null,
   "metadata": {},
   "outputs": [],
   "source": []
  }
 ],
 "metadata": {
  "kernelspec": {
   "display_name": "Python 3",
   "language": "python",
   "name": "python3"
  },
  "language_info": {
   "codemirror_mode": {
    "name": "ipython",
    "version": 3
   },
   "file_extension": ".py",
   "mimetype": "text/x-python",
   "name": "python",
   "nbconvert_exporter": "python",
   "pygments_lexer": "ipython3",
   "version": "3.7.3"
  }
 },
 "nbformat": 4,
 "nbformat_minor": 2
}
